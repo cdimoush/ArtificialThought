{
 "cells": [
  {
   "cell_type": "markdown",
   "metadata": {},
   "source": [
    "# Thought Notebook\n",
    "New project, quick proof of concept notebook for artificial thought.\n",
    "\n",
    "Goal here is to turn audio transcriptions into focused summaries. Let's see if I can turn unstructured text into structured text without any added context or input parameters.\n",
    "\n",
    "THIS NOTEBOOK IN PARTICULAR:\n",
    "Is for the development of api client for the audio to text service. Audio in Text out.\n",
    "\n",
    "Geat an idea of cost and usability. PocketSphinx suckssss\n",
    "\n",
    "20240125:\n",
    "Ok firgured it out\n",
    "- AssemblyAI\n",
    "    - Use this for audio to text (see examples in this notebook)\n",
    "\n",
    "- Heroku\n",
    "    - Use this for hosting a simple FLASH and DJANGO site\n",
    "    - Has these linux pods called 'dynos' that will spin up and run code hosted on github\n",
    "\n",
    "Open: AWS S3 or pinecone for the data base now???? or heroku??? or github???\n",
    "\n",
    "Nice convo with the g-machine for ground work\n",
    "\n",
    "https://chat.openai.com/share/d959d731-ee91-4b91-a569-3f4158c8a19c"
   ]
  },
  {
   "cell_type": "code",
   "execution_count": null,
   "metadata": {},
   "outputs": [],
   "source": []
  },
  {
   "cell_type": "code",
   "execution_count": null,
   "metadata": {},
   "outputs": [],
   "source": []
  },
  {
   "cell_type": "markdown",
   "metadata": {},
   "source": [
    "ROLE: you are a computer programmer that is going to help me with a project. Right now we are not writing code. We are just talking. You are doing research for me. Search web when I ask you a question and respond with what you find. Use your knowledge to interrupt the results and decide what to look for.\n",
    "\n",
    "QUESTION:\n",
    "I am need a good audio (speech) to text service with an API for my new python project. I want to use a good one that is also very popular. I fine paying for usage. Just want easy well documented setup.\n",
    "\n",
    "Search this and tell me what you think\n",
    "\n"
   ]
  },
  {
   "cell_type": "markdown",
   "metadata": {},
   "source": [
    "ROLE: you are a computer programmer that is going to help me with a project. Right now we are writing code. We are just talking. You are doing research for me. Search web when I ask you a question and respond with what you find. Use your knowledge to interrupt the results and decide what to look for.\n",
    "\n",
    "QUESTION:\n",
    "Here is the initial code. Rewrite to use a local wave in the same folder called test.wav. Then run it and tell me what you think.\n",
    "\n",
    "current code\n"
   ]
  },
  {
   "cell_type": "markdown",
   "metadata": {},
   "source": [
    "# AssemblyAI Tutorial\n",
    "## Plain Summary"
   ]
  },
  {
   "cell_type": "code",
   "execution_count": 4,
   "metadata": {},
   "outputs": [
    {
     "name": "stdout",
     "output_type": "stream",
     "text": [
      "Okay. Here is a voice memo on the performance of a design analyst named Bargov. Bargov is now my direct report, and I am having troubles working with the alum. It.\n"
     ]
    }
   ],
   "source": [
    "import os\n",
    "import assemblyai as aai\n",
    "\n",
    "# Get the API key from the environment variable\n",
    "api_key = os.getenv('ASSEMBLYAI_API_KEY')\n",
    "\n",
    "# Set the API key in the AssemblyAI settings\n",
    "aai.settings.api_key = api_key\n",
    "\n",
    "transcriber = aai.Transcriber()\n",
    "\n",
    "# Example using a URL\n",
    "# transcript = transcriber.transcribe(\"https://storage.googleapis.com/aai-web-samples/news.mp4\")\n",
    "\n",
    "# Example using a local file (uncomment the line below to use)\n",
    "# transcript = transcriber.transcribe(\"./test_audio.mp3\")\n",
    "transcript = transcriber.transcribe(\"./lattice.wav\")\n",
    "\n",
    "print(transcript.text)\n"
   ]
  },
  {
   "cell_type": "markdown",
   "metadata": {},
   "source": [
    "## Speaker Identification"
   ]
  },
  {
   "cell_type": "code",
   "execution_count": 3,
   "metadata": {},
   "outputs": [
    {
     "name": "stdout",
     "output_type": "stream",
     "text": [
      "Speaker A: I'm David Curley at the Smithsonian Aaron Space Museum, where we are marking 50 years since man landed and walked on the moon in a lander just like this one. We are going to show you some of the actual ABC News coverage from 50 years ago during that eight day mission of this remarkable achievement, Apollo eleven's lander, the Eagle, would be the first manned craft to land on the moon. For training, NASA came with an unusual contraption. Neil Armstrong actually had to eject from it once, and then he had a couple of successful flights. ABC News anchor at the time, 50 years ago, Frank Reynolds with a look at that unusual trainer.\n",
      "Speaker B: Apollo eleven commander Neil Armstrong is at the controls of a lunar landing training vehicle, testing the reaction control jets. These thrusters stabilize the LEM during landing and takeoff. The LLTV is designed to simulate the behavior of the LEM as it lands in the moon's gravity. Lunar gravity is one 6th that of the Earth's. Neil Armstrong flew one of these vehicles on May 6, 1968, and that flight was nearly his last. Later reports by a NASA investigating team said the crash, which we'll see soon, was caused by a loss of fuel pressure compounded by a warning light that failed to work. Armstrong's coolness under pressure saved himself and possibly months of delay for the Apollo program. Later that same year, 1968, another test pilot, Joseph Allegrandi, also escaped from an LLTV just before it crashed. The training vehicle then underwent several design modifications and improvements. Engineers had to increase the vehicle's rocket power to help stabilize the craft. That made the LLTV less of a moon gravity simulator, but it improved pilot safety. On June 16, 1969, Neil Armstrong flew the vehicle, sometimes called the flying bedstead, to several perfect landings.\n",
      "Speaker C: Question was, how does the machine fly? And the answer is that we're very pleased with the way it flies. It's a significant improvement over the LLRV, which we were flying here a year ago, and I think it does an excellent job of actually capturing the handling characteristics of the lunar module in a landing maneuver. It's really a great deal different than any other kind of aircraft that I've ever flown. The, the simulation of lunar gravity has some aspects that make this type of flight sufficiently different from anything else we've ever done to make this vehicle very worthwhile. And I'm very pleased that I had the opportunity to get some flights in it here just before the Apollo eleven flight.\n"
     ]
    }
   ],
   "source": [
    "# Start by making sure the `assemblyai` package is installed.\n",
    "# If not, you can install it by running the following command:\n",
    "# pip install -U assemblyai\n",
    "#\n",
    "# Note: Some macOS users may need to use `pip3` instead of `pip`.\n",
    "\n",
    "import assemblyai as aai\n",
    "\n",
    "# Replace with your API key\n",
    "# Get the API key from the environment variable \n",
    "api_key = os.getenv('ASSEMBLYAI_API_KEY')  \n",
    "# Set the API key in the AssemblyAI settings \n",
    "aai.settings.api_key = api_key\n",
    "\n",
    "# URL of the file to transcribe\n",
    "# FILE_URL = \"https://github.com/AssemblyAI-Examples/audio-examples/raw/main/20230607_me_canadian_wildfires.mp3\"\n",
    "FILE_URL = \"https://storage.googleapis.com/aai-web-samples/news.mp4\"\n",
    "# You can also transcribe a local file by passing in a file path\n",
    "# FILE_URL = './path/to/file.mp3'\n",
    "\n",
    "config = aai.TranscriptionConfig(speaker_labels=True)\n",
    "\n",
    "transcriber = aai.Transcriber()\n",
    "transcript = transcriber.transcribe(\n",
    "  FILE_URL,\n",
    "  config=config\n",
    ")\n",
    "\n",
    "for utterance in transcript.utterances:\n",
    "  print(f\"Speaker {utterance.speaker}: {utterance.text}\")\n"
   ]
  },
  {
   "cell_type": "code",
   "execution_count": null,
   "metadata": {},
   "outputs": [],
   "source": []
  }
 ],
 "metadata": {
  "kernelspec": {
   "display_name": "base",
   "language": "python",
   "name": "python3"
  },
  "language_info": {
   "codemirror_mode": {
    "name": "ipython",
    "version": 3
   },
   "file_extension": ".py",
   "mimetype": "text/x-python",
   "name": "python",
   "nbconvert_exporter": "python",
   "pygments_lexer": "ipython3",
   "version": "3.11.4"
  }
 },
 "nbformat": 4,
 "nbformat_minor": 2
}
